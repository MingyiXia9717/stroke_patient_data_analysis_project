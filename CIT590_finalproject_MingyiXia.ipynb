{
 "cells": [
  {
   "cell_type": "markdown",
   "id": "749ee789",
   "metadata": {},
   "source": [
    "# Stroke Patient Dataset Analysis and Predictive Modeling with Logistic Regression"
   ]
  },
  {
   "cell_type": "markdown",
   "id": "889dde41",
   "metadata": {},
   "source": [
    "*I completed the project independently with suggestions from my mentor Mengting Zhang. The dataset used in this project is a public dataset available on the Kaggle website.*"
   ]
  },
  {
   "cell_type": "markdown",
   "id": "bd457605",
   "metadata": {},
   "source": [
    "#### Project Summary"
   ]
  },
  {
   "cell_type": "markdown",
   "id": "a4e4d00d",
   "metadata": {},
   "source": [
    "The goal of this project is to analyze the important factors that contribute to stroke events in patients. We will first clean and explore the stroke patient dataset, and then we will build a logistic regression model to predict stroke events in patients."
   ]
  },
  {
   "cell_type": "markdown",
   "id": "b2041b41",
   "metadata": {},
   "source": [
    "**NOTE: imbalanced-learn package must be installed first in order to run this analysis script.**<br>\n",
    "**Please run the following command from Terminal**"
   ]
  },
  {
   "cell_type": "markdown",
   "id": "c326c3f8",
   "metadata": {},
   "source": [
    "pip install imbalanced-learn"
   ]
  },
  {
   "cell_type": "markdown",
   "id": "402a7237",
   "metadata": {},
   "source": [
    "#### Setup"
   ]
  },
  {
   "cell_type": "code",
   "execution_count": 1,
   "id": "fc58bc7b",
   "metadata": {},
   "outputs": [],
   "source": [
    "# import packages\n",
    "import numpy as np\n",
    "import pandas as pd\n",
    "import matplotlib.pyplot as plt\n",
    "import seaborn as sns\n",
    "from imblearn.over_sampling import SMOTE\n",
    "from sklearn.model_selection import train_test_split\n",
    "from sklearn.feature_selection import RFE\n",
    "from sklearn.feature_selection import RFECV\n",
    "from sklearn.linear_model import LogisticRegression\n",
    "from sklearn.metrics import accuracy_score, confusion_matrix\n",
    "from sklearn.metrics import roc_curve, auc, roc_auc_score\n",
    "from sklearn.metrics import classification_report\n",
    "\n",
    "#set plot sytle\n",
    "sns.set_style(\"darkgrid\")"
   ]
  },
  {
   "cell_type": "code",
   "execution_count": 2,
   "id": "4444a480",
   "metadata": {},
   "outputs": [],
   "source": [
    "import warnings\n",
    "warnings.filterwarnings('ignore')"
   ]
  },
  {
   "cell_type": "markdown",
   "id": "ab00cf95",
   "metadata": {},
   "source": [
    "### Part 1: Import Data and Preprocess Data"
   ]
  },
  {
   "cell_type": "markdown",
   "id": "23155f7b",
   "metadata": {},
   "source": [
    "#### (I) Import data and Initial Inspection"
   ]
  },
  {
   "cell_type": "code",
   "execution_count": 3,
   "id": "31799e0a",
   "metadata": {},
   "outputs": [],
   "source": [
    "stroke_dataset = pd.read_csv('healthcare-dataset-stroke-data.csv')"
   ]
  },
  {
   "cell_type": "code",
   "execution_count": 4,
   "id": "ab9ad355",
   "metadata": {},
   "outputs": [
    {
     "data": {
      "text/html": [
       "<div>\n",
       "<style scoped>\n",
       "    .dataframe tbody tr th:only-of-type {\n",
       "        vertical-align: middle;\n",
       "    }\n",
       "\n",
       "    .dataframe tbody tr th {\n",
       "        vertical-align: top;\n",
       "    }\n",
       "\n",
       "    .dataframe thead th {\n",
       "        text-align: right;\n",
       "    }\n",
       "</style>\n",
       "<table border=\"1\" class=\"dataframe\">\n",
       "  <thead>\n",
       "    <tr style=\"text-align: right;\">\n",
       "      <th></th>\n",
       "      <th>id</th>\n",
       "      <th>gender</th>\n",
       "      <th>age</th>\n",
       "      <th>hypertension</th>\n",
       "      <th>heart_disease</th>\n",
       "      <th>ever_married</th>\n",
       "      <th>work_type</th>\n",
       "      <th>Residence_type</th>\n",
       "      <th>avg_glucose_level</th>\n",
       "      <th>bmi</th>\n",
       "      <th>smoking_status</th>\n",
       "      <th>stroke</th>\n",
       "    </tr>\n",
       "  </thead>\n",
       "  <tbody>\n",
       "    <tr>\n",
       "      <th>0</th>\n",
       "      <td>9046</td>\n",
       "      <td>Male</td>\n",
       "      <td>67.0</td>\n",
       "      <td>0</td>\n",
       "      <td>1</td>\n",
       "      <td>Yes</td>\n",
       "      <td>Private</td>\n",
       "      <td>Urban</td>\n",
       "      <td>228.69</td>\n",
       "      <td>36.6</td>\n",
       "      <td>formerly smoked</td>\n",
       "      <td>1</td>\n",
       "    </tr>\n",
       "    <tr>\n",
       "      <th>1</th>\n",
       "      <td>51676</td>\n",
       "      <td>Female</td>\n",
       "      <td>61.0</td>\n",
       "      <td>0</td>\n",
       "      <td>0</td>\n",
       "      <td>Yes</td>\n",
       "      <td>Self-employed</td>\n",
       "      <td>Rural</td>\n",
       "      <td>202.21</td>\n",
       "      <td>NaN</td>\n",
       "      <td>never smoked</td>\n",
       "      <td>1</td>\n",
       "    </tr>\n",
       "    <tr>\n",
       "      <th>2</th>\n",
       "      <td>31112</td>\n",
       "      <td>Male</td>\n",
       "      <td>80.0</td>\n",
       "      <td>0</td>\n",
       "      <td>1</td>\n",
       "      <td>Yes</td>\n",
       "      <td>Private</td>\n",
       "      <td>Rural</td>\n",
       "      <td>105.92</td>\n",
       "      <td>32.5</td>\n",
       "      <td>never smoked</td>\n",
       "      <td>1</td>\n",
       "    </tr>\n",
       "    <tr>\n",
       "      <th>3</th>\n",
       "      <td>60182</td>\n",
       "      <td>Female</td>\n",
       "      <td>49.0</td>\n",
       "      <td>0</td>\n",
       "      <td>0</td>\n",
       "      <td>Yes</td>\n",
       "      <td>Private</td>\n",
       "      <td>Urban</td>\n",
       "      <td>171.23</td>\n",
       "      <td>34.4</td>\n",
       "      <td>smokes</td>\n",
       "      <td>1</td>\n",
       "    </tr>\n",
       "    <tr>\n",
       "      <th>4</th>\n",
       "      <td>1665</td>\n",
       "      <td>Female</td>\n",
       "      <td>79.0</td>\n",
       "      <td>1</td>\n",
       "      <td>0</td>\n",
       "      <td>Yes</td>\n",
       "      <td>Self-employed</td>\n",
       "      <td>Rural</td>\n",
       "      <td>174.12</td>\n",
       "      <td>24.0</td>\n",
       "      <td>never smoked</td>\n",
       "      <td>1</td>\n",
       "    </tr>\n",
       "  </tbody>\n",
       "</table>\n",
       "</div>"
      ],
      "text/plain": [
       "      id  gender   age  hypertension  heart_disease ever_married  \\\n",
       "0   9046    Male  67.0             0              1          Yes   \n",
       "1  51676  Female  61.0             0              0          Yes   \n",
       "2  31112    Male  80.0             0              1          Yes   \n",
       "3  60182  Female  49.0             0              0          Yes   \n",
       "4   1665  Female  79.0             1              0          Yes   \n",
       "\n",
       "       work_type Residence_type  avg_glucose_level   bmi   smoking_status  \\\n",
       "0        Private          Urban             228.69  36.6  formerly smoked   \n",
       "1  Self-employed          Rural             202.21   NaN     never smoked   \n",
       "2        Private          Rural             105.92  32.5     never smoked   \n",
       "3        Private          Urban             171.23  34.4           smokes   \n",
       "4  Self-employed          Rural             174.12  24.0     never smoked   \n",
       "\n",
       "   stroke  \n",
       "0       1  \n",
       "1       1  \n",
       "2       1  \n",
       "3       1  \n",
       "4       1  "
      ]
     },
     "execution_count": 4,
     "metadata": {},
     "output_type": "execute_result"
    }
   ],
   "source": [
    "stroke_dataset.head() #look at the first 5 rows of the dataset"
   ]
  },
  {
   "cell_type": "code",
   "execution_count": 4,
   "id": "02b9716e",
   "metadata": {},
   "outputs": [
    {
     "name": "stdout",
     "output_type": "stream",
     "text": [
      "<class 'pandas.core.frame.DataFrame'>\n",
      "RangeIndex: 5110 entries, 0 to 5109\n",
      "Data columns (total 12 columns):\n",
      " #   Column             Non-Null Count  Dtype  \n",
      "---  ------             --------------  -----  \n",
      " 0   id                 5110 non-null   int64  \n",
      " 1   gender             5110 non-null   object \n",
      " 2   age                5110 non-null   float64\n",
      " 3   hypertension       5110 non-null   int64  \n",
      " 4   heart_disease      5110 non-null   int64  \n",
      " 5   ever_married       5110 non-null   object \n",
      " 6   work_type          5110 non-null   object \n",
      " 7   Residence_type     5110 non-null   object \n",
      " 8   avg_glucose_level  5110 non-null   float64\n",
      " 9   bmi                4909 non-null   float64\n",
      " 10  smoking_status     5110 non-null   object \n",
      " 11  stroke             5110 non-null   int64  \n",
      "dtypes: float64(3), int64(4), object(5)\n",
      "memory usage: 479.2+ KB\n"
     ]
    }
   ],
   "source": [
    "stroke_dataset.info() #provide an overview of data type for each variable and counts"
   ]
  },
  {
   "cell_type": "markdown",
   "id": "1f15a202",
   "metadata": {},
   "source": [
    "Based on the summary above, it is worth noting that there are missing values in the 'bmi' column. Let's first take a look at the 'bmi' distribution. And we will plot the non-null data in the 'bmi' column."
   ]
  },
  {
   "cell_type": "markdown",
   "id": "29242a86",
   "metadata": {},
   "source": [
    "#### (II) Handle Missing Values"
   ]
  },
  {
   "cell_type": "code",
   "execution_count": 5,
   "id": "90aac8eb",
   "metadata": {},
   "outputs": [
    {
     "data": {
      "text/plain": [
       "count    4909.000000\n",
       "mean       28.893237\n",
       "std         7.854067\n",
       "min        10.300000\n",
       "25%        23.500000\n",
       "50%        28.100000\n",
       "75%        33.100000\n",
       "max        97.600000\n",
       "Name: bmi, dtype: float64"
      ]
     },
     "execution_count": 5,
     "metadata": {},
     "output_type": "execute_result"
    }
   ],
   "source": [
    "stroke_dataset['bmi'].describe()"
   ]
  },
  {
   "cell_type": "code",
   "execution_count": 6,
   "id": "428988dc",
   "metadata": {},
   "outputs": [
    {
     "data": {
      "image/png": "[encoded data removed]",
      "text/plain": [
       "<Figure size 432x288 with 1 Axes>"
      ]
     },
     "metadata": {},
     "output_type": "display_data"
    }
   ],
   "source": [
    "fig1 = sns.histplot(stroke_dataset['bmi'],bins=60)\n",
    "fig1.set(xlabel = 'Body Mass Index (BMI)')\n",
    "fig1.set(title = 'Distribution of BMI')\n",
    "plt.show()"
   ]
  },
  {
   "cell_type": "markdown",
   "id": "e47f956b",
   "metadata": {},
   "source": [
    "Based on the distribution plot above, we can see that the distribution of BMI is not perfectly symmetrical with some outliers > 80. Also, we don't have much information in this dataset to predict BMI from other columns easily. Therefore, we will apply imputation with median value to fill the missing values in the 'bmi' column."
   ]
  },
  {
   "cell_type": "code",
   "execution_count": 7,
   "id": "78aef017",
   "metadata": {},
   "outputs": [],
   "source": [
    "#apply median imputation\n",
    "stroke_dataset['bmi'] = stroke_dataset['bmi'].fillna(stroke_dataset['bmi'].median()) "
   ]
  },
  {
   "cell_type": "markdown",
   "id": "ae8b8a77",
   "metadata": {},
   "source": [
    "Now we can take a look at the summary of the 'bmi' column again to check whether we still have any missing value."
   ]
  },
  {
   "cell_type": "code",
   "execution_count": 8,
   "id": "2f48edb7",
   "metadata": {},
   "outputs": [
    {
     "data": {
      "text/plain": [
       "count    5110.000000\n",
       "mean       28.862035\n",
       "std         7.699562\n",
       "min        10.300000\n",
       "25%        23.800000\n",
       "50%        28.100000\n",
       "75%        32.800000\n",
       "max        97.600000\n",
       "Name: bmi, dtype: float64"
      ]
     },
     "execution_count": 8,
     "metadata": {},
     "output_type": "execute_result"
    }
   ],
   "source": [
    "stroke_dataset['bmi'].describe()"
   ]
  },
  {
   "cell_type": "markdown",
   "id": "7cbee112",
   "metadata": {},
   "source": [
    "We can see that now the count 5110 matches with the count value of other variables. Thus all the missing values have been filled. We can also notice that after median impuation, the mean hasn't changed much compared to the original mean. We can plot the distribution of BMI again to double check."
   ]
  },
  {
   "cell_type": "code",
   "execution_count": 9,
   "id": "625597fd",
   "metadata": {},
   "outputs": [
    {
     "data": {
      "image/png": "[encoded data removed]",
      "text/plain": [
       "<Figure size 432x288 with 1 Axes>"
      ]
     },
     "metadata": {},
     "output_type": "display_data"
    }
   ],
   "source": [
    "fig2 = sns.histplot(stroke_dataset['bmi'],bins=60)\n",
    "fig2.set(xlabel = 'Body Mass Index (BMI)')\n",
    "fig2.set(title = 'Distribution of BMI after Median Imputation')\n",
    "plt.show()"
   ]
  },
  {
   "cell_type": "markdown",
   "id": "75c1eef1",
   "metadata": {},
   "source": [
    "We can observe from the plot above that there is an increased count for the median BMI as expected. The distribution of BMI is very similar to the original distribution of BMI, which is desirable after median imputation. "
   ]
  },
  {
   "cell_type": "markdown",
   "id": "30af2b24",
   "metadata": {},
   "source": [
    "#### (III) Recode Categorical Predictor Variables"
   ]
  },
  {
   "cell_type": "markdown",
   "id": "7e3fcfab",
   "metadata": {},
   "source": [
    "There are five categorical predictor variables: gender, ever_married, work_type, Residence_type, and smoking_status. In the original dataframe, they are formatted as 'object' in data type. We will create dummy variables for these five categorical predictors."
   ]
  },
  {
   "cell_type": "markdown",
   "id": "8cb5f630",
   "metadata": {},
   "source": [
    "##### (1) Gender"
   ]
  },
  {
   "cell_type": "code",
   "execution_count": 43,
   "id": "26548b99",
   "metadata": {},
   "outputs": [],
   "source": [
    "gender_dummies = pd.get_dummies(stroke_dataset['gender'])"
   ]
  },
  {
   "cell_type": "code",
   "execution_count": 44,
   "id": "c85a10ae",
   "metadata": {},
   "outputs": [],
   "source": [
    "gender_dummies_renamed = gender_dummies.rename(columns={'Other': 'Nonbinary'})"
   ]
  },
  {
   "cell_type": "code",
   "execution_count": 45,
   "id": "ebd5834e",
   "metadata": {},
   "outputs": [
    {
     "data": {
      "text/html": [
       "<div>\n",
       "<style scoped>\n",
       "    .dataframe tbody tr th:only-of-type {\n",
       "        vertical-align: middle;\n",
       "    }\n",
       "\n",
       "    .dataframe tbody tr th {\n",
       "        vertical-align: top;\n",
       "    }\n",
       "\n",
       "    .dataframe thead th {\n",
       "        text-align: right;\n",
       "    }\n",
       "</style>\n",
       "<table border=\"1\" class=\"dataframe\">\n",
       "  <thead>\n",
       "    <tr style=\"text-align: right;\">\n",
       "      <th></th>\n",
       "      <th>Female</th>\n",
       "      <th>Male</th>\n",
       "      <th>Nonbinary</th>\n",
       "    </tr>\n",
       "  </thead>\n",
       "  <tbody>\n",
       "    <tr>\n",
       "      <th>0</th>\n",
       "      <td>0</td>\n",
       "      <td>1</td>\n",
       "      <td>0</td>\n",
       "    </tr>\n",
       "    <tr>\n",
       "      <th>1</th>\n",
       "      <td>1</td>\n",
       "      <td>0</td>\n",
       "      <td>0</td>\n",
       "    </tr>\n",
       "    <tr>\n",
       "      <th>2</th>\n",
       "      <td>0</td>\n",
       "      <td>1</td>\n",
       "      <td>0</td>\n",
       "    </tr>\n",
       "    <tr>\n",
       "      <th>3</th>\n",
       "      <td>1</td>\n",
       "      <td>0</td>\n",
       "      <td>0</td>\n",
       "    </tr>\n",
       "    <tr>\n",
       "      <th>4</th>\n",
       "      <td>1</td>\n",
       "      <td>0</td>\n",
       "      <td>0</td>\n",
       "    </tr>\n",
       "  </tbody>\n",
       "</table>\n",
       "</div>"
      ],
      "text/plain": [
       "   Female  Male  Nonbinary\n",
       "0       0     1          0\n",
       "1       1     0          0\n",
       "2       0     1          0\n",
       "3       1     0          0\n",
       "4       1     0          0"
      ]
     },
     "execution_count": 45,
     "metadata": {},
     "output_type": "execute_result"
    }
   ],
   "source": [
    "gender_dummies_renamed.head()"
   ]
  },
  {
   "cell_type": "code",
   "execution_count": 46,
   "id": "d2de375a",
   "metadata": {},
   "outputs": [],
   "source": [
    "stroke_dataset_extended1 = stroke_dataset.join(gender_dummies)"
   ]
  },
  {
   "cell_type": "code",
   "execution_count": 47,
   "id": "a6b0cffa",
   "metadata": {},
   "outputs": [
    {
     "data": {
      "text/plain": [
       "(5110, 15)"
      ]
     },
     "execution_count": 47,
     "metadata": {},
     "output_type": "execute_result"
    }
   ],
   "source": [
    "stroke_dataset_extended1.shape"
   ]
  },
  {
   "cell_type": "markdown",
   "id": "93cdf691",
   "metadata": {},
   "source": [
    "##### (2) Ever married"
   ]
  },
  {
   "cell_type": "code",
   "execution_count": 48,
   "id": "5eb08793",
   "metadata": {},
   "outputs": [],
   "source": [
    "married_dummies = pd.get_dummies(stroke_dataset['ever_married'])"
   ]
  },
  {
   "cell_type": "code",
   "execution_count": 49,
   "id": "8689bcca",
   "metadata": {},
   "outputs": [],
   "source": [
    "married_dummies_renamed = married_dummies.rename(columns={'No': 'Married_No','Yes':'Married_Yes'})"
   ]
  },
  {
   "cell_type": "code",
   "execution_count": 50,
   "id": "2e02ef37",
   "metadata": {},
   "outputs": [
    {
     "data": {
      "text/html": [
       "<div>\n",
       "<style scoped>\n",
       "    .dataframe tbody tr th:only-of-type {\n",
       "        vertical-align: middle;\n",
       "    }\n",
       "\n",
       "    .dataframe tbody tr th {\n",
       "        vertical-align: top;\n",
       "    }\n",
       "\n",
       "    .dataframe thead th {\n",
       "        text-align: right;\n",
       "    }\n",
       "</style>\n",
       "<table border=\"1\" class=\"dataframe\">\n",
       "  <thead>\n",
       "    <tr style=\"text-align: right;\">\n",
       "      <th></th>\n",
       "      <th>Married_No</th>\n",
       "      <th>Married_Yes</th>\n",
       "    </tr>\n",
       "  </thead>\n",
       "  <tbody>\n",
       "    <tr>\n",
       "      <th>0</th>\n",
       "      <td>0</td>\n",
       "      <td>1</td>\n",
       "    </tr>\n",
       "    <tr>\n",
       "      <th>1</th>\n",
       "      <td>0</td>\n",
       "      <td>1</td>\n",
       "    </tr>\n",
       "    <tr>\n",
       "      <th>2</th>\n",
       "      <td>0</td>\n",
       "      <td>1</td>\n",
       "    </tr>\n",
       "    <tr>\n",
       "      <th>3</th>\n",
       "      <td>0</td>\n",
       "      <td>1</td>\n",
       "    </tr>\n",
       "    <tr>\n",
       "      <th>4</th>\n",
       "      <td>0</td>\n",
       "      <td>1</td>\n",
       "    </tr>\n",
       "  </tbody>\n",
       "</table>\n",
       "</div>"
      ],
      "text/plain": [
       "   Married_No  Married_Yes\n",
       "0           0            1\n",
       "1           0            1\n",
       "2           0            1\n",
       "3           0            1\n",
       "4           0            1"
      ]
     },
     "execution_count": 50,
     "metadata": {},
     "output_type": "execute_result"
    }
   ],
   "source": [
    "married_dummies_renamed.head()"
   ]
  },
  {
   "cell_type": "code",
   "execution_count": 55,
   "id": "7dde7121",
   "metadata": {},
   "outputs": [],
   "source": [
    "stroke_dataset_extended2 = stroke_dataset_extended1.join(married_dummies_renamed)"
   ]
  },
  {
   "cell_type": "code",
   "execution_count": 56,
   "id": "66eb1c14",
   "metadata": {},
   "outputs": [
    {
     "data": {
      "text/plain": [
       "(5110, 17)"
      ]
     },
     "execution_count": 56,
     "metadata": {},
     "output_type": "execute_result"
    }
   ],
   "source": [
    "stroke_dataset_extended2.shape"
   ]
  },
  {
   "cell_type": "markdown",
   "id": "81bb4084",
   "metadata": {},
   "source": [
    "##### (3)Work type"
   ]
  },
  {
   "cell_type": "code",
   "execution_count": 53,
   "id": "fc4b26c3",
   "metadata": {},
   "outputs": [],
   "source": [
    "worktype_dummies = pd.get_dummies(stroke_dataset['work_type'])"
   ]
  },
  {
   "cell_type": "code",
   "execution_count": 54,
   "id": "60692c93",
   "metadata": {},
   "outputs": [
    {
     "data": {
      "text/html": [
       "<div>\n",
       "<style scoped>\n",
       "    .dataframe tbody tr th:only-of-type {\n",
       "        vertical-align: middle;\n",
       "    }\n",
       "\n",
       "    .dataframe tbody tr th {\n",
       "        vertical-align: top;\n",
       "    }\n",
       "\n",
       "    .dataframe thead th {\n",
       "        text-align: right;\n",
       "    }\n",
       "</style>\n",
       "<table border=\"1\" class=\"dataframe\">\n",
       "  <thead>\n",
       "    <tr style=\"text-align: right;\">\n",
       "      <th></th>\n",
       "      <th>Govt_job</th>\n",
       "      <th>Never_worked</th>\n",
       "      <th>Private</th>\n",
       "      <th>Self-employed</th>\n",
       "      <th>children</th>\n",
       "    </tr>\n",
       "  </thead>\n",
       "  <tbody>\n",
       "    <tr>\n",
       "      <th>0</th>\n",
       "      <td>0</td>\n",
       "      <td>0</td>\n",
       "      <td>1</td>\n",
       "      <td>0</td>\n",
       "      <td>0</td>\n",
       "    </tr>\n",
       "    <tr>\n",
       "      <th>1</th>\n",
       "      <td>0</td>\n",
       "      <td>0</td>\n",
       "      <td>0</td>\n",
       "      <td>1</td>\n",
       "      <td>0</td>\n",
       "    </tr>\n",
       "    <tr>\n",
       "      <th>2</th>\n",
       "      <td>0</td>\n",
       "      <td>0</td>\n",
       "      <td>1</td>\n",
       "      <td>0</td>\n",
       "      <td>0</td>\n",
       "    </tr>\n",
       "    <tr>\n",
       "      <th>3</th>\n",
       "      <td>0</td>\n",
       "      <td>0</td>\n",
       "      <td>1</td>\n",
       "      <td>0</td>\n",
       "      <td>0</td>\n",
       "    </tr>\n",
       "    <tr>\n",
       "      <th>4</th>\n",
       "      <td>0</td>\n",
       "      <td>0</td>\n",
       "      <td>0</td>\n",
       "      <td>1</td>\n",
       "      <td>0</td>\n",
       "    </tr>\n",
       "  </tbody>\n",
       "</table>\n",
       "</div>"
      ],
      "text/plain": [
       "   Govt_job  Never_worked  Private  Self-employed  children\n",
       "0         0             0        1              0         0\n",
       "1         0             0        0              1         0\n",
       "2         0             0        1              0         0\n",
       "3         0             0        1              0         0\n",
       "4         0             0        0              1         0"
      ]
     },
     "execution_count": 54,
     "metadata": {},
     "output_type": "execute_result"
    }
   ],
   "source": [
    "worktype_dummies.head()"
   ]
  },
  {
   "cell_type": "code",
   "execution_count": 57,
   "id": "26652eb3",
   "metadata": {},
   "outputs": [],
   "source": [
    "stroke_dataset_extended3 = stroke_dataset_extended2.join(worktype_dummies)"
   ]
  },
  {
   "cell_type": "code",
   "execution_count": 58,
   "id": "6b0fa452",
   "metadata": {},
   "outputs": [
    {
     "data": {
      "text/plain": [
       "(5110, 22)"
      ]
     },
     "execution_count": 58,
     "metadata": {},
     "output_type": "execute_result"
    }
   ],
   "source": [
    "stroke_dataset_extended3.shape"
   ]
  },
  {
   "cell_type": "markdown",
   "id": "d3e87fb8",
   "metadata": {},
   "source": [
    "##### (4) Residence type"
   ]
  },
  {
   "cell_type": "code",
   "execution_count": 65,
   "id": "606a082b",
   "metadata": {},
   "outputs": [],
   "source": [
    "residence_dummies = pd.get_dummies(stroke_dataset['Residence_type'])"
   ]
  },
  {
   "cell_type": "code",
   "execution_count": 66,
   "id": "16fe5f3f",
   "metadata": {},
   "outputs": [
    {
     "data": {
      "text/html": [
       "<div>\n",
       "<style scoped>\n",
       "    .dataframe tbody tr th:only-of-type {\n",
       "        vertical-align: middle;\n",
       "    }\n",
       "\n",
       "    .dataframe tbody tr th {\n",
       "        vertical-align: top;\n",
       "    }\n",
       "\n",
       "    .dataframe thead th {\n",
       "        text-align: right;\n",
       "    }\n",
       "</style>\n",
       "<table border=\"1\" class=\"dataframe\">\n",
       "  <thead>\n",
       "    <tr style=\"text-align: right;\">\n",
       "      <th></th>\n",
       "      <th>Rural</th>\n",
       "      <th>Urban</th>\n",
       "    </tr>\n",
       "  </thead>\n",
       "  <tbody>\n",
       "    <tr>\n",
       "      <th>0</th>\n",
       "      <td>0</td>\n",
       "      <td>1</td>\n",
       "    </tr>\n",
       "    <tr>\n",
       "      <th>1</th>\n",
       "      <td>1</td>\n",
       "      <td>0</td>\n",
       "    </tr>\n",
       "    <tr>\n",
       "      <th>2</th>\n",
       "      <td>1</td>\n",
       "      <td>0</td>\n",
       "    </tr>\n",
       "    <tr>\n",
       "      <th>3</th>\n",
       "      <td>0</td>\n",
       "      <td>1</td>\n",
       "    </tr>\n",
       "    <tr>\n",
       "      <th>4</th>\n",
       "      <td>1</td>\n",
       "      <td>0</td>\n",
       "    </tr>\n",
       "  </tbody>\n",
       "</table>\n",
       "</div>"
      ],
      "text/plain": [
       "   Rural  Urban\n",
       "0      0      1\n",
       "1      1      0\n",
       "2      1      0\n",
       "3      0      1\n",
       "4      1      0"
      ]
     },
     "execution_count": 66,
     "metadata": {},
     "output_type": "execute_result"
    }
   ],
   "source": [
    "residence_dummies.head()"
   ]
  },
  {
   "cell_type": "code",
   "execution_count": 67,
   "id": "30b10dc3",
   "metadata": {},
   "outputs": [],
   "source": [
    "stroke_dataset_extended4 = stroke_dataset_extended3.join(residence_dummies)"
   ]
  },
  {
   "cell_type": "code",
   "execution_count": 68,
   "id": "2d6ba082",
   "metadata": {},
   "outputs": [
    {
     "data": {
      "text/plain": [
       "(5110, 24)"
      ]
     },
     "execution_count": 68,
     "metadata": {},
     "output_type": "execute_result"
    }
   ],
   "source": [
    "stroke_dataset_extended4.shape"
   ]
  },
  {
   "cell_type": "markdown",
   "id": "ed9c4c61",
   "metadata": {},
   "source": [
    "##### (5) Smoking status"
   ]
  },
  {
   "cell_type": "code",
   "execution_count": 69,
   "id": "c72c353a",
   "metadata": {},
   "outputs": [],
   "source": [
    "smoking_dummies = pd.get_dummies(stroke_dataset['smoking_status'])"
   ]
  },
  {
   "cell_type": "code",
   "execution_count": 72,
   "id": "0882390c",
   "metadata": {},
   "outputs": [],
   "source": [
    "smoking_dummies_renamed = smoking_dummies.rename(columns={'Unknown': 'Unknown_smoke_hist'})"
   ]
  },
  {
   "cell_type": "code",
   "execution_count": 73,
   "id": "5ba69468",
   "metadata": {},
   "outputs": [
    {
     "data": {
      "text/html": [
       "<div>\n",
       "<style scoped>\n",
       "    .dataframe tbody tr th:only-of-type {\n",
       "        vertical-align: middle;\n",
       "    }\n",
       "\n",
       "    .dataframe tbody tr th {\n",
       "        vertical-align: top;\n",
       "    }\n",
       "\n",
       "    .dataframe thead th {\n",
       "        text-align: right;\n",
       "    }\n",
       "</style>\n",
       "<table border=\"1\" class=\"dataframe\">\n",
       "  <thead>\n",
       "    <tr style=\"text-align: right;\">\n",
       "      <th></th>\n",
       "      <th>Unknown_smoke_hist</th>\n",
       "      <th>formerly smoked</th>\n",
       "      <th>never smoked</th>\n",
       "      <th>smokes</th>\n",
       "    </tr>\n",
       "  </thead>\n",
       "  <tbody>\n",
       "    <tr>\n",
       "      <th>0</th>\n",
       "      <td>0</td>\n",
       "      <td>1</td>\n",
       "      <td>0</td>\n",
       "      <td>0</td>\n",
       "    </tr>\n",
       "    <tr>\n",
       "      <th>1</th>\n",
       "      <td>0</td>\n",
       "      <td>0</td>\n",
       "      <td>1</td>\n",
       "      <td>0</td>\n",
       "    </tr>\n",
       "    <tr>\n",
       "      <th>2</th>\n",
       "      <td>0</td>\n",
       "      <td>0</td>\n",
       "      <td>1</td>\n",
       "      <td>0</td>\n",
       "    </tr>\n",
       "    <tr>\n",
       "      <th>3</th>\n",
       "      <td>0</td>\n",
       "      <td>0</td>\n",
       "      <td>0</td>\n",
       "      <td>1</td>\n",
       "    </tr>\n",
       "    <tr>\n",
       "      <th>4</th>\n",
       "      <td>0</td>\n",
       "      <td>0</td>\n",
       "      <td>1</td>\n",
       "      <td>0</td>\n",
       "    </tr>\n",
       "  </tbody>\n",
       "</table>\n",
       "</div>"
      ],
      "text/plain": [
       "   Unknown_smoke_hist  formerly smoked  never smoked  smokes\n",
       "0                   0                1             0       0\n",
       "1                   0                0             1       0\n",
       "2                   0                0             1       0\n",
       "3                   0                0             0       1\n",
       "4                   0                0             1       0"
      ]
     },
     "execution_count": 73,
     "metadata": {},
     "output_type": "execute_result"
    }
   ],
   "source": [
    "smoking_dummies_renamed.head()"
   ]
  },
  {
   "cell_type": "code",
   "execution_count": 74,
   "id": "783cc026",
   "metadata": {},
   "outputs": [],
   "source": [
    "stroke_dataset_extended5 = stroke_dataset_extended4.join(smoking_dummies_renamed)"
   ]
  },
  {
   "cell_type": "code",
   "execution_count": 75,
   "id": "490daf53",
   "metadata": {},
   "outputs": [
    {
     "data": {
      "text/plain": [
       "(5110, 28)"
      ]
     },
     "execution_count": 75,
     "metadata": {},
     "output_type": "execute_result"
    }
   ],
   "source": [
    "stroke_dataset_extended5.shape"
   ]
  },
  {
   "cell_type": "markdown",
   "id": "0b78db8d",
   "metadata": {},
   "source": [
    "Now we can check the data type for each variable again after the recoding step."
   ]
  },
  {
   "cell_type": "code",
   "execution_count": 76,
   "id": "3555f4e9",
   "metadata": {},
   "outputs": [
    {
     "name": "stdout",
     "output_type": "stream",
     "text": [
      "<class 'pandas.core.frame.DataFrame'>\n",
      "RangeIndex: 5110 entries, 0 to 5109\n",
      "Data columns (total 28 columns):\n",
      " #   Column              Non-Null Count  Dtype  \n",
      "---  ------              --------------  -----  \n",
      " 0   id                  5110 non-null   int64  \n",
      " 1   gender              5110 non-null   object \n",
      " 2   age                 5110 non-null   float64\n",
      " 3   hypertension        5110 non-null   int64  \n",
      " 4   heart_disease       5110 non-null   int64  \n",
      " 5   ever_married        5110 non-null   object \n",
      " 6   work_type           5110 non-null   object \n",
      " 7   Residence_type      5110 non-null   object \n",
      " 8   avg_glucose_level   5110 non-null   float64\n",
      " 9   bmi                 5110 non-null   float64\n",
      " 10  smoking_status      5110 non-null   object \n",
      " 11  stroke              5110 non-null   int64  \n",
      " 12  Female              5110 non-null   uint8  \n",
      " 13  Male                5110 non-null   uint8  \n",
      " 14  Other               5110 non-null   uint8  \n",
      " 15  Married_No          5110 non-null   uint8  \n",
      " 16  Married_Yes         5110 non-null   uint8  \n",
      " 17  Govt_job            5110 non-null   uint8  \n",
      " 18  Never_worked        5110 non-null   uint8  \n",
      " 19  Private             5110 non-null   uint8  \n",
      " 20  Self-employed       5110 non-null   uint8  \n",
      " 21  children            5110 non-null   uint8  \n",
      " 22  Rural               5110 non-null   uint8  \n",
      " 23  Urban               5110 non-null   uint8  \n",
      " 24  Unknown_smoke_hist  5110 non-null   uint8  \n",
      " 25  formerly smoked     5110 non-null   uint8  \n",
      " 26  never smoked        5110 non-null   uint8  \n",
      " 27  smokes              5110 non-null   uint8  \n",
      "dtypes: float64(3), int64(4), object(5), uint8(16)\n",
      "memory usage: 559.0+ KB\n"
     ]
    }
   ],
   "source": [
    "stroke_dataset_extended5.info()"
   ]
  },
  {
   "cell_type": "code",
   "execution_count": 77,
   "id": "2c326345",
   "metadata": {},
   "outputs": [
    {
     "data": {
      "text/html": [
       "<div>\n",
       "<style scoped>\n",
       "    .dataframe tbody tr th:only-of-type {\n",
       "        vertical-align: middle;\n",
       "    }\n",
       "\n",
       "    .dataframe tbody tr th {\n",
       "        vertical-align: top;\n",
       "    }\n",
       "\n",
       "    .dataframe thead th {\n",
       "        text-align: right;\n",
       "    }\n",
       "</style>\n",
       "<table border=\"1\" class=\"dataframe\">\n",
       "  <thead>\n",
       "    <tr style=\"text-align: right;\">\n",
       "      <th></th>\n",
       "      <th>id</th>\n",
       "      <th>gender</th>\n",
       "      <th>age</th>\n",
       "      <th>hypertension</th>\n",
       "      <th>heart_disease</th>\n",
       "      <th>ever_married</th>\n",
       "      <th>work_type</th>\n",
       "      <th>Residence_type</th>\n",
       "      <th>avg_glucose_level</th>\n",
       "      <th>bmi</th>\n",
       "      <th>...</th>\n",
       "      <th>Never_worked</th>\n",
       "      <th>Private</th>\n",
       "      <th>Self-employed</th>\n",
       "      <th>children</th>\n",
       "      <th>Rural</th>\n",
       "      <th>Urban</th>\n",
       "      <th>Unknown_smoke_hist</th>\n",
       "      <th>formerly smoked</th>\n",
       "      <th>never smoked</th>\n",
       "      <th>smokes</th>\n",
       "    </tr>\n",
       "  </thead>\n",
       "  <tbody>\n",
       "    <tr>\n",
       "      <th>0</th>\n",
       "      <td>9046</td>\n",
       "      <td>Male</td>\n",
       "      <td>67.0</td>\n",
       "      <td>0</td>\n",
       "      <td>1</td>\n",
       "      <td>Yes</td>\n",
       "      <td>Private</td>\n",
       "      <td>Urban</td>\n",
       "      <td>228.69</td>\n",
       "      <td>36.6</td>\n",
       "      <td>...</td>\n",
       "      <td>0</td>\n",
       "      <td>1</td>\n",
       "      <td>0</td>\n",
       "      <td>0</td>\n",
       "      <td>0</td>\n",
       "      <td>1</td>\n",
       "      <td>0</td>\n",
       "      <td>1</td>\n",
       "      <td>0</td>\n",
       "      <td>0</td>\n",
       "    </tr>\n",
       "    <tr>\n",
       "      <th>1</th>\n",
       "      <td>51676</td>\n",
       "      <td>Female</td>\n",
       "      <td>61.0</td>\n",
       "      <td>0</td>\n",
       "      <td>0</td>\n",
       "      <td>Yes</td>\n",
       "      <td>Self-employed</td>\n",
       "      <td>Rural</td>\n",
       "      <td>202.21</td>\n",
       "      <td>28.1</td>\n",
       "      <td>...</td>\n",
       "      <td>0</td>\n",
       "      <td>0</td>\n",
       "      <td>1</td>\n",
       "      <td>0</td>\n",
       "      <td>1</td>\n",
       "      <td>0</td>\n",
       "      <td>0</td>\n",
       "      <td>0</td>\n",
       "      <td>1</td>\n",
       "      <td>0</td>\n",
       "    </tr>\n",
       "    <tr>\n",
       "      <th>2</th>\n",
       "      <td>31112</td>\n",
       "      <td>Male</td>\n",
       "      <td>80.0</td>\n",
       "      <td>0</td>\n",
       "      <td>1</td>\n",
       "      <td>Yes</td>\n",
       "      <td>Private</td>\n",
       "      <td>Rural</td>\n",
       "      <td>105.92</td>\n",
       "      <td>32.5</td>\n",
       "      <td>...</td>\n",
       "      <td>0</td>\n",
       "      <td>1</td>\n",
       "      <td>0</td>\n",
       "      <td>0</td>\n",
       "      <td>1</td>\n",
       "      <td>0</td>\n",
       "      <td>0</td>\n",
       "      <td>0</td>\n",
       "      <td>1</td>\n",
       "      <td>0</td>\n",
       "    </tr>\n",
       "    <tr>\n",
       "      <th>3</th>\n",
       "      <td>60182</td>\n",
       "      <td>Female</td>\n",
       "      <td>49.0</td>\n",
       "      <td>0</td>\n",
       "      <td>0</td>\n",
       "      <td>Yes</td>\n",
       "      <td>Private</td>\n",
       "      <td>Urban</td>\n",
       "      <td>171.23</td>\n",
       "      <td>34.4</td>\n",
       "      <td>...</td>\n",
       "      <td>0</td>\n",
       "      <td>1</td>\n",
       "      <td>0</td>\n",
       "      <td>0</td>\n",
       "      <td>0</td>\n",
       "      <td>1</td>\n",
       "      <td>0</td>\n",
       "      <td>0</td>\n",
       "      <td>0</td>\n",
       "      <td>1</td>\n",
       "    </tr>\n",
       "    <tr>\n",
       "      <th>4</th>\n",
       "      <td>1665</td>\n",
       "      <td>Female</td>\n",
       "      <td>79.0</td>\n",
       "      <td>1</td>\n",
       "      <td>0</td>\n",
       "      <td>Yes</td>\n",
       "      <td>Self-employed</td>\n",
       "      <td>Rural</td>\n",
       "      <td>174.12</td>\n",
       "      <td>24.0</td>\n",
       "      <td>...</td>\n",
       "      <td>0</td>\n",
       "      <td>0</td>\n",
       "      <td>1</td>\n",
       "      <td>0</td>\n",
       "      <td>1</td>\n",
       "      <td>0</td>\n",
       "      <td>0</td>\n",
       "      <td>0</td>\n",
       "      <td>1</td>\n",
       "      <td>0</td>\n",
       "    </tr>\n",
       "  </tbody>\n",
       "</table>\n",
       "<p>5 rows × 28 columns</p>\n",
       "</div>"
      ],
      "text/plain": [
       "      id  gender   age  hypertension  heart_disease ever_married  \\\n",
       "0   9046    Male  67.0             0              1          Yes   \n",
       "1  51676  Female  61.0             0              0          Yes   \n",
       "2  31112    Male  80.0             0              1          Yes   \n",
       "3  60182  Female  49.0             0              0          Yes   \n",
       "4   1665  Female  79.0             1              0          Yes   \n",
       "\n",
       "       work_type Residence_type  avg_glucose_level   bmi  ... Never_worked  \\\n",
       "0        Private          Urban             228.69  36.6  ...            0   \n",
       "1  Self-employed          Rural             202.21  28.1  ...            0   \n",
       "2        Private          Rural             105.92  32.5  ...            0   \n",
       "3        Private          Urban             171.23  34.4  ...            0   \n",
       "4  Self-employed          Rural             174.12  24.0  ...            0   \n",
       "\n",
       "   Private  Self-employed  children  Rural  Urban  Unknown_smoke_hist  \\\n",
       "0        1              0         0      0      1                   0   \n",
       "1        0              1         0      1      0                   0   \n",
       "2        1              0         0      1      0                   0   \n",
       "3        1              0         0      0      1                   0   \n",
       "4        0              1         0      1      0                   0   \n",
       "\n",
       "   formerly smoked  never smoked  smokes  \n",
       "0                1             0       0  \n",
       "1                0             1       0  \n",
       "2                0             1       0  \n",
       "3                0             0       1  \n",
       "4                0             1       0  \n",
       "\n",
       "[5 rows x 28 columns]"
      ]
     },
     "execution_count": 77,
     "metadata": {},
     "output_type": "execute_result"
    }
   ],
   "source": [
    "stroke_dataset_extended5.head(5)"
   ]
  },
  {
   "cell_type": "markdown",
   "id": "a1b5770a",
   "metadata": {},
   "source": [
    "#### (IV) Examine the Response Variable ('stroke')"
   ]
  },
  {
   "cell_type": "markdown",
   "id": "a1a69c36",
   "metadata": {},
   "source": [
    "We will examine the response variable that we are primarily interested in, the 'stroke' column, which indicates whether the patient has a stroke (1) or not have a stroke (0). "
   ]
  },
  {
   "cell_type": "code",
   "execution_count": 78,
   "id": "d06d3ad6",
   "metadata": {},
   "outputs": [
    {
     "data": {
      "text/plain": [
       "0    4861\n",
       "1     249\n",
       "Name: stroke, dtype: int64"
      ]
     },
     "execution_count": 78,
     "metadata": {},
     "output_type": "execute_result"
    }
   ],
   "source": [
    "stroke_dataset_extended5['stroke'].value_counts() #count the number of occurrences in each category"
   ]
  },
  {
   "cell_type": "markdown",
   "id": "31f9c6fa",
   "metadata": {},
   "source": [
    "Here it is important to note that in this dataset, 4861 patients didn't have stroke, and 249 patients had stroke. The dataset is clearly imbalanced, which is not desirable for training a machine learning model. We need to undertake some measure to ensure that the dataset is balanced so that our model can perform better. "
   ]
  },
  {
   "cell_type": "markdown",
   "id": "36a05bd6",
   "metadata": {},
   "source": [
    "#### (V) Handle Imbalanced Data"
   ]
  },
  {
   "cell_type": "markdown",
   "id": "75186629",
   "metadata": {},
   "source": [
    "There are multiple ways to deal with imbalanced data (e.g., oversample minority class, undersample majority class, etc.). Here we will use the SMOTE (Synthetic Minority Oversampling Technique) strategy in order to generate a balanced dataset.\n",
    "\n",
    "*Reference:* https://towardsdatascience.com/methods-for-dealing-with-imbalanced-data-5b761be45a18"
   ]
  },
  {
   "cell_type": "code",
   "execution_count": 79,
   "id": "ace740e0",
   "metadata": {},
   "outputs": [],
   "source": [
    "#split the dataset into predictor variable columns and the response variable column\n",
    "#also need to drop the unnecessary columns\n",
    "predictors = stroke_dataset_extended5.drop(columns=['id', 'stroke','gender','ever_married','work_type','Residence_type','smoking_status'])\n",
    "response = stroke_dataset_extended5['stroke']"
   ]
  },
  {
   "cell_type": "code",
   "execution_count": 103,
   "id": "80a31a0e",
   "metadata": {},
   "outputs": [
    {
     "name": "stdout",
     "output_type": "stream",
     "text": [
      "(5110, 21)\n"
     ]
    }
   ],
   "source": [
    "print(predictors.shape)"
   ]
  },
  {
   "cell_type": "code",
   "execution_count": 104,
   "id": "4930a915",
   "metadata": {},
   "outputs": [],
   "source": [
    "#create a balanced dataset with SMOTE\n",
    "sm = SMOTE(random_state = 99) \n",
    "balanced_predictors, balanced_response = sm.fit_resample(predictors, response) "
   ]
  },
  {
   "cell_type": "markdown",
   "id": "d190cf05",
   "metadata": {},
   "source": [
    "Now we can check the response variable ('stroke') again."
   ]
  },
  {
   "cell_type": "code",
   "execution_count": 105,
   "id": "245139bc",
   "metadata": {},
   "outputs": [
    {
     "data": {
      "text/plain": [
       "0    4861\n",
       "1    4861\n",
       "Name: stroke, dtype: int64"
      ]
     },
     "execution_count": 105,
     "metadata": {},
     "output_type": "execute_result"
    }
   ],
   "source": [
    "balanced_response.value_counts() "
   ]
  },
  {
   "cell_type": "markdown",
   "id": "176607d7",
   "metadata": {},
   "source": [
    "After applying SMOTE to upsampling the original dataset, we now have an equal number of patients who had stroke and patients who didn't have stroke. "
   ]
  },
  {
   "cell_type": "markdown",
   "id": "1073e156",
   "metadata": {},
   "source": [
    "### Part 2: Build a Logistic Regression Model"
   ]
  },
  {
   "cell_type": "markdown",
   "id": "f77ff526",
   "metadata": {},
   "source": [
    "#### (I) Check Multicollinearity among the predictor variables"
   ]
  },
  {
   "cell_type": "markdown",
   "id": "c95ebbba",
   "metadata": {},
   "source": [
    "Multicollinearity (variables are highly correlated to each other) can be a serious issue in model building and impairs the performance of the model. We want to ensure that the predictor variables put into the logistic regression model algorithm are independent and not highly correlated to each other."
   ]
  },
  {
   "cell_type": "code",
   "execution_count": 106,
   "id": "7fc60fbe",
   "metadata": {},
   "outputs": [],
   "source": [
    "#create the correlation matrix for the predictor variables\n",
    "corr_matrix = balanced_predictors.corr()"
   ]
  },
  {
   "cell_type": "code",
   "execution_count": 107,
   "id": "9f62f439",
   "metadata": {},
   "outputs": [
    {
     "data": {
      "text/plain": [
       "[Text(0.5, 1.0, 'Heatmap of Pairwise Correlation between Predictor Variables')]"
      ]
     },
     "execution_count": 107,
     "metadata": {},
     "output_type": "execute_result"
    },
    {
     "data": {
      "image/png": "[encoded data removed]",
      "text/plain": [
       "<Figure size 432x288 with 2 Axes>"
      ]
     },
     "metadata": {},
     "output_type": "display_data"
    }
   ],
   "source": [
    "#create heatmap of the pairwise correlation\n",
    "fig3 = sns.heatmap(corr_matrix,cmap=\"YlGnBu\",annot=False,linewidths=.8)\n",
    "fig3.set(title=\"Heatmap of Pairwise Correlation between Predictor Variables\")"
   ]
  },
  {
   "cell_type": "markdown",
   "id": "4c3b248f",
   "metadata": {},
   "source": [
    "Based on the pairwise correlation heatmap shown above, we can observe that there is no significant correlation (pairwise correlation >= 0.9) between any of the two predictor variables. Therefore, we don't need to remove any predictor variable due to multicollinearity. Now we will proceed to automated feature selection and build the logistic regression model."
   ]
  },
  {
   "cell_type": "markdown",
   "id": "7889fa8c",
   "metadata": {},
   "source": [
    "#### (II) Split Dataset into Model Training & Final Testing Sets"
   ]
  },
  {
   "cell_type": "markdown",
   "id": "834ad454",
   "metadata": {},
   "source": [
    "The model training set will include the training and testing sets used in subsequent model fitting step. The final testing set will be a fresh test set used for evaluating model performance at the end."
   ]
  },
  {
   "cell_type": "code",
   "execution_count": 108,
   "id": "5cec4a01",
   "metadata": {},
   "outputs": [
    {
     "name": "stdout",
     "output_type": "stream",
     "text": [
      "(7777, 21) (1945, 21) (7777,) (1945,)\n"
     ]
    }
   ],
   "source": [
    "model_train_X, final_test_X, model_train_Y, final_test_Y = train_test_split(balanced_predictors, balanced_response, test_size=0.2)\n",
    "print(model_train_X.shape, final_test_X.shape, model_train_Y.shape, final_test_Y.shape)"
   ]
  },
  {
   "cell_type": "markdown",
   "id": "2e3adb9c",
   "metadata": {},
   "source": [
    "#### (III) Automated Feature Selection"
   ]
  },
  {
   "cell_type": "markdown",
   "id": "4c669a7a",
   "metadata": {},
   "source": [
    "We will use **recursive feature elimination with cross validation (RFECV)** to find the best set of features for our logistic regression model. This algorithm will tell us the optimal number of features  to input into our model and also what these features are after cross validation. Here we choose 10-fold cross validation.\n",
    "\n",
    "*References*: \n",
    "1. https://www.kaggle.com/residentmario/automated-feature-selection-with-sklearn\n",
    "2. https://scikit-learn.org/stable/auto_examples/feature_selection/plot_rfe_with_cross_validation.html\n",
    "3. https://towardsdatascience.com/machine-learning-workflow-on-diabetes-data-part-02-11262b7f7a5c"
   ]
  },
  {
   "cell_type": "code",
   "execution_count": 109,
   "id": "742d357e",
   "metadata": {},
   "outputs": [
    {
     "data": {
      "text/plain": [
       "RFECV(cv=10, estimator=LogisticRegression(max_iter=500), scoring='accuracy')"
      ]
     },
     "execution_count": 109,
     "metadata": {},
     "output_type": "execute_result"
    }
   ],
   "source": [
    "stroke_regression_model = LogisticRegression(max_iter=500)\n",
    "#we will apply 10-fold cross validation with RFE\n",
    "stroke_rfecv = RFECV(stroke_regression_model, step=1, cv=10, scoring='accuracy')\n",
    "stroke_rfecv.fit(model_train_X, model_train_Y)"
   ]
  },
  {
   "cell_type": "code",
   "execution_count": 110,
   "id": "70230430",
   "metadata": {},
   "outputs": [
    {
     "data": {
      "text/plain": [
       "[Text(0, 0.5, 'CV Score (Accuracy)')]"
      ]
     },
     "execution_count": 110,
     "metadata": {},
     "output_type": "execute_result"
    },
    {
     "data": {
      "image/png": "[encoded data removed]",
      "text/plain": [
       "<Figure size 432x288 with 1 Axes>"
      ]
     },
     "metadata": {},
     "output_type": "display_data"
    }
   ],
   "source": [
    "#visually display the optimal number of features to input into model\n",
    "fig4 = sns.lineplot(range(1,len(stroke_rfecv.grid_scores_)+1), stroke_rfecv.grid_scores_)\n",
    "fig4.set(title='CV Score (Accuracy) vs. Number of Features Input into Model')\n",
    "fig4.set(xlabel=\"Number of Features Input into Model\")\n",
    "fig4.set(ylabel=\"CV Score (Accuracy)\")"
   ]
  },
  {
   "cell_type": "markdown",
   "id": "07bb7864",
   "metadata": {},
   "source": [
    "The plot above shows that the accuracy is the highest when we input >= 15 variables into the model. To avoid overfitting, we will use 15 variables."
   ]
  },
  {
   "cell_type": "code",
   "execution_count": 112,
   "id": "210166c6",
   "metadata": {},
   "outputs": [
    {
     "name": "stdout",
     "output_type": "stream",
     "text": [
      "['Female', 'Male', 'Married_No', 'Married_Yes', 'Govt_job', 'Never_worked', 'Private', 'Self-employed', 'children', 'Rural', 'Urban', 'Unknown_smoke_hist', 'formerly smoked', 'never smoked', 'smokes']\n"
     ]
    }
   ],
   "source": [
    "#find the list of selected variables to put into the model\n",
    "screened_variables = list(zip(balanced_predictors.columns.values, stroke_rfecv.support_))\n",
    "selected_variables = []\n",
    "for key,value in enumerate(screened_variables):\n",
    "    if(value[1]) == True:\n",
    "        selected_variables.append(value[0])\n",
    "        \n",
    "print(selected_variables)"
   ]
  },
  {
   "cell_type": "markdown",
   "id": "c3824d57",
   "metadata": {},
   "source": [
    " #### (IV) Logistic Regression Modeling"
   ]
  },
  {
   "cell_type": "code",
   "execution_count": 113,
   "id": "8e64f094",
   "metadata": {},
   "outputs": [],
   "source": [
    "stroke_fitted_model = stroke_regression_model.fit(model_train_X[selected_variables], model_train_Y)"
   ]
  },
  {
   "cell_type": "code",
   "execution_count": 115,
   "id": "6258937a",
   "metadata": {},
   "outputs": [
    {
     "data": {
      "text/html": [
       "<div>\n",
       "<style scoped>\n",
       "    .dataframe tbody tr th:only-of-type {\n",
       "        vertical-align: middle;\n",
       "    }\n",
       "\n",
       "    .dataframe tbody tr th {\n",
       "        vertical-align: top;\n",
       "    }\n",
       "\n",
       "    .dataframe thead th {\n",
       "        text-align: right;\n",
       "    }\n",
       "</style>\n",
       "<table border=\"1\" class=\"dataframe\">\n",
       "  <thead>\n",
       "    <tr style=\"text-align: right;\">\n",
       "      <th></th>\n",
       "      <th>Predictor Variables</th>\n",
       "      <th>Coefficients</th>\n",
       "    </tr>\n",
       "  </thead>\n",
       "  <tbody>\n",
       "    <tr>\n",
       "      <th>0</th>\n",
       "      <td>Female</td>\n",
       "      <td>-4.432</td>\n",
       "    </tr>\n",
       "    <tr>\n",
       "      <th>1</th>\n",
       "      <td>Male</td>\n",
       "      <td>-4.295</td>\n",
       "    </tr>\n",
       "    <tr>\n",
       "      <th>2</th>\n",
       "      <td>Married_No</td>\n",
       "      <td>-4.935</td>\n",
       "    </tr>\n",
       "    <tr>\n",
       "      <th>3</th>\n",
       "      <td>Married_Yes</td>\n",
       "      <td>-3.457</td>\n",
       "    </tr>\n",
       "    <tr>\n",
       "      <th>4</th>\n",
       "      <td>Govt_job</td>\n",
       "      <td>-4.523</td>\n",
       "    </tr>\n",
       "    <tr>\n",
       "      <th>5</th>\n",
       "      <td>Never_worked</td>\n",
       "      <td>-2.341</td>\n",
       "    </tr>\n",
       "    <tr>\n",
       "      <th>6</th>\n",
       "      <td>Private</td>\n",
       "      <td>-3.897</td>\n",
       "    </tr>\n",
       "    <tr>\n",
       "      <th>7</th>\n",
       "      <td>Self-employed</td>\n",
       "      <td>-4.007</td>\n",
       "    </tr>\n",
       "    <tr>\n",
       "      <th>8</th>\n",
       "      <td>children</td>\n",
       "      <td>-4.604</td>\n",
       "    </tr>\n",
       "    <tr>\n",
       "      <th>9</th>\n",
       "      <td>Rural</td>\n",
       "      <td>-4.741</td>\n",
       "    </tr>\n",
       "    <tr>\n",
       "      <th>10</th>\n",
       "      <td>Urban</td>\n",
       "      <td>-4.682</td>\n",
       "    </tr>\n",
       "    <tr>\n",
       "      <th>11</th>\n",
       "      <td>Unknown_smoke_hist</td>\n",
       "      <td>-4.914</td>\n",
       "    </tr>\n",
       "    <tr>\n",
       "      <th>12</th>\n",
       "      <td>formerly smoked</td>\n",
       "      <td>-4.418</td>\n",
       "    </tr>\n",
       "    <tr>\n",
       "      <th>13</th>\n",
       "      <td>never smoked</td>\n",
       "      <td>-4.635</td>\n",
       "    </tr>\n",
       "    <tr>\n",
       "      <th>14</th>\n",
       "      <td>smokes</td>\n",
       "      <td>-4.683</td>\n",
       "    </tr>\n",
       "  </tbody>\n",
       "</table>\n",
       "</div>"
      ],
      "text/plain": [
       "   Predictor Variables  Coefficients\n",
       "0               Female        -4.432\n",
       "1                 Male        -4.295\n",
       "2           Married_No        -4.935\n",
       "3          Married_Yes        -3.457\n",
       "4             Govt_job        -4.523\n",
       "5         Never_worked        -2.341\n",
       "6              Private        -3.897\n",
       "7        Self-employed        -4.007\n",
       "8             children        -4.604\n",
       "9                Rural        -4.741\n",
       "10               Urban        -4.682\n",
       "11  Unknown_smoke_hist        -4.914\n",
       "12     formerly smoked        -4.418\n",
       "13        never smoked        -4.635\n",
       "14              smokes        -4.683"
      ]
     },
     "execution_count": 115,
     "metadata": {},
     "output_type": "execute_result"
    }
   ],
   "source": [
    "#Show the regression coefficient associated with each predictor variable\n",
    "pd.DataFrame({\"Predictor Variables\":model_train_X[selected_variables].columns.tolist(),\"Coefficients\":np.round(stroke_fitted_model.coef_[0],3)})"
   ]
  },
  {
   "cell_type": "markdown",
   "id": "70540b91",
   "metadata": {},
   "source": [
    "### Part 3: Make Prediction and Model Evaluation"
   ]
  },
  {
   "cell_type": "markdown",
   "id": "73f49e87",
   "metadata": {},
   "source": [
    "Now we will use our final test set which hasn't been used in model training yet to evaluate how accurate our logistic regression model is. "
   ]
  },
  {
   "cell_type": "markdown",
   "id": "9d71f463",
   "metadata": {},
   "source": [
    "#### (I) Make Predictions"
   ]
  },
  {
   "cell_type": "code",
   "execution_count": 118,
   "id": "30bc4b7c",
   "metadata": {},
   "outputs": [],
   "source": [
    "stroke_predictions = stroke_fitted_model.predict(final_test_X[selected_variables])"
   ]
  },
  {
   "cell_type": "markdown",
   "id": "d8b9a0fe",
   "metadata": {},
   "source": [
    "#### (II) Model Evaluation"
   ]
  },
  {
   "cell_type": "markdown",
   "id": "d45ff784",
   "metadata": {},
   "source": [
    "##### (1) Accuracy Score"
   ]
  },
  {
   "cell_type": "code",
   "execution_count": 119,
   "id": "d0756102",
   "metadata": {},
   "outputs": [
    {
     "name": "stdout",
     "output_type": "stream",
     "text": [
      "0.96\n"
     ]
    }
   ],
   "source": [
    "print(np.round(accuracy_score(final_test_Y, stroke_predictions),3))"
   ]
  },
  {
   "cell_type": "markdown",
   "id": "01ae7835",
   "metadata": {},
   "source": [
    "Our model yields 96% accuracy in predicting stroke events in patients in the test set."
   ]
  },
  {
   "cell_type": "markdown",
   "id": "03851e74",
   "metadata": {},
   "source": [
    "##### (2) Confusion Matrix"
   ]
  },
  {
   "cell_type": "code",
   "execution_count": 120,
   "id": "15391a05",
   "metadata": {},
   "outputs": [],
   "source": [
    "stroke_cm = pd.DataFrame(confusion_matrix(final_test_Y, np.round(stroke_predictions,2)))"
   ]
  },
  {
   "cell_type": "code",
   "execution_count": 121,
   "id": "c8dbf846",
   "metadata": {},
   "outputs": [
    {
     "data": {
      "text/plain": [
       "<AxesSubplot:xlabel='Predicted', ylabel='Actual'>"
      ]
     },
     "execution_count": 121,
     "metadata": {},
     "output_type": "execute_result"
    },
    {
     "data": {
      "image/png": "[encoded data removed]",
      "text/plain": [
       "<Figure size 432x288 with 2 Axes>"
      ]
     },
     "metadata": {},
     "output_type": "display_data"
    }
   ],
   "source": [
    "stroke_cm.index.name = 'Actual'\n",
    "stroke_cm.columns.name = 'Predicted'\n",
    "sns.heatmap(stroke_cm, cmap=\"YlGnBu\", annot=True,annot_kws={\"size\": 15},fmt='g')"
   ]
  },
  {
   "cell_type": "markdown",
   "id": "d3fccba2",
   "metadata": {},
   "source": [
    "Based on the confusion matrix shown above, 906 patients who really had stroke are predicted correctly (true positive). 77 patients who really had stroke are predicted wrongly (false negative). 961 patients who really didn't have stroke are predicted correctly (not have stroke, true negative). And lastly, 1 patient who really didn't have stroke are predicted wrongly (have stroke, false positive). "
   ]
  },
  {
   "cell_type": "markdown",
   "id": "c86d5ebf",
   "metadata": {},
   "source": [
    "##### (3) ROC curve"
   ]
  },
  {
   "cell_type": "code",
   "execution_count": 122,
   "id": "79685297",
   "metadata": {},
   "outputs": [
    {
     "data": {
      "text/plain": [
       "<AxesSubplot:title={'center':'ROC Curve'}, xlabel='False Positive Rate', ylabel='True Postitive Rate'>"
      ]
     },
     "execution_count": 122,
     "metadata": {},
     "output_type": "execute_result"
    },
    {
     "data": {
      "image/png": "[encoded data removed]",
      "text/plain": [
       "<Figure size 432x288 with 1 Axes>"
      ]
     },
     "metadata": {},
     "output_type": "display_data"
    }
   ],
   "source": [
    "false_positive_rate, true_positive_rate,thresholds = roc_curve(final_test_Y, stroke_predictions)\n",
    "fig6 = sns.lineplot(false_positive_rate, true_positive_rate, label='ROC curve')\n",
    "fig6.set(title=\"ROC Curve\")\n",
    "fig6.set(xlabel=\"False Positive Rate\")\n",
    "fig6.set(ylabel=\"True Postitive Rate\")\n",
    "#show the 45 degrees line\n",
    "x = np.arange(0,1.1,0.1)\n",
    "y = np.arange(0,1.1,0.1)\n",
    "sns.lineplot(x,y)"
   ]
  },
  {
   "cell_type": "markdown",
   "id": "f96a5af6",
   "metadata": {},
   "source": [
    "The 45 degrees line represents random guessing. The plot above suggests that our model performs better than random guessing."
   ]
  },
  {
   "cell_type": "code",
   "execution_count": 123,
   "id": "3aaa7e9e",
   "metadata": {},
   "outputs": [
    {
     "data": {
      "text/plain": [
       "0.96"
      ]
     },
     "execution_count": 123,
     "metadata": {},
     "output_type": "execute_result"
    }
   ],
   "source": [
    "np.round(roc_auc_score(final_test_Y, stroke_predictions),3)"
   ]
  },
  {
   "cell_type": "markdown",
   "id": "cfc7d858",
   "metadata": {},
   "source": [
    "The area under the ROC curve is 0.96, which is greater than 0.5 (random guessing). "
   ]
  },
  {
   "cell_type": "markdown",
   "id": "1deba96d",
   "metadata": {},
   "source": [
    "#### Conclusion"
   ]
  },
  {
   "cell_type": "markdown",
   "id": "1f55b423",
   "metadata": {},
   "source": [
    "In this analysis project, we first cleaned the dataset and used the SMOTE strategy to upsample the imbalanced response variable data (\"stroke\" events). Next, we recoded the categorical predictor variables into binary values so that they can be input into the regression model. Afterwards, we applied the RFECV algorithm to select the optimal set of features with 10-fold cross validation. The algorithm output 15 features to be used in the model. Finally, after building the logistic regression model, we evaluated the model accuracy by running the model on the test set (20% of the original dataset, not used in model training). Our model yields 96% accuracy in predicting stroke events in patients."
   ]
  }
 ],
 "metadata": {
  "kernelspec": {
   "display_name": "Python 3",
   "language": "python",
   "name": "python3"
  },
  "language_info": {
   "codemirror_mode": {
    "name": "ipython",
    "version": 3
   },
   "file_extension": ".py",
   "mimetype": "text/x-python",
   "name": "python",
   "nbconvert_exporter": "python",
   "pygments_lexer": "ipython3",
   "version": "3.8.8"
  }
 },
 "nbformat": 4,
 "nbformat_minor": 5
}
